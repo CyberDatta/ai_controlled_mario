{
 "cells": [
  {
   "cell_type": "code",
   "execution_count": null,
   "id": "1718a12d",
   "metadata": {
    "scrolled": true
   },
   "outputs": [],
   "source": [
    "!pip install stable-baselines3"
   ]
  },
  {
   "cell_type": "code",
   "execution_count": null,
   "id": "1ff93497",
   "metadata": {},
   "outputs": [],
   "source": [
    "!pip install Shimmy"
   ]
  },
  {
   "cell_type": "markdown",
   "id": "9d57f95e",
   "metadata": {},
   "source": [
    "1. Setup Mario"
   ]
  },
  {
   "cell_type": "code",
   "execution_count": null,
   "id": "5d8f1887",
   "metadata": {},
   "outputs": [],
   "source": [
    "# import the game\n",
    "import gym_super_mario_bros\n",
    "\n",
    "# import the joypad wrapper\n",
    "from nes_py.wrappers import JoypadSpace\n",
    "\n",
    "#import simplified controls\n",
    "from gym_super_mario_bros.actions import SIMPLE_MOVEMENT\n",
    "\n",
    "#import gym module\n",
    "import gym"
   ]
  },
  {
   "cell_type": "code",
   "execution_count": null,
   "id": "d9c0fe60",
   "metadata": {},
   "outputs": [],
   "source": [
    "SIMPLE_MOVEMENT"
   ]
  },
  {
   "cell_type": "code",
   "execution_count": null,
   "id": "e78d2cf5",
   "metadata": {},
   "outputs": [],
   "source": [
    "# setup game\n",
    "env=gym_super_mario_bros.make('SuperMarioBros-v0',apply_api_compatibility=True,render_mode=\"human\")\n",
    "env=JoypadSpace(env,SIMPLE_MOVEMENT)"
   ]
  },
  {
   "cell_type": "code",
   "execution_count": null,
   "id": "bd037926",
   "metadata": {},
   "outputs": [],
   "source": [
    "SIMPLE_MOVEMENT"
   ]
  },
  {
   "cell_type": "code",
   "execution_count": null,
   "id": "8c7c40ca",
   "metadata": {},
   "outputs": [],
   "source": [
    "env.action_space.sample()\n",
    "SIMPLE_MOVEMENT[env.action_space.sample()]"
   ]
  },
  {
   "cell_type": "code",
   "execution_count": null,
   "id": "4b4464a4",
   "metadata": {
    "scrolled": true
   },
   "outputs": [],
   "source": [
    "env.observation_space.shape"
   ]
  },
  {
   "cell_type": "code",
   "execution_count": null,
   "id": "a85a9fd7",
   "metadata": {
    "scrolled": true
   },
   "outputs": [],
   "source": [
    "# create a flag - restart or not\n",
    "done=True\n",
    "# loop through each frame\n",
    "for step in range(1000):\n",
    "    if done:\n",
    "#       start the game\n",
    "        env.reset()\n",
    "#     take a random action\n",
    "    state,reward,done,truncate,info=env.step(env.action_space.sample())\n",
    "#     print(truncate)\n",
    "#     show the game on the screen\n",
    "#     env.render()\n",
    "#     close the game\n",
    "env.close()"
   ]
  },
  {
   "cell_type": "code",
   "execution_count": null,
   "id": "a1cd6daf",
   "metadata": {
    "scrolled": true
   },
   "outputs": [],
   "source": [
    "a=env.reset()\n",
    "b=env.step(1)\n",
    "print(b)"
   ]
  },
  {
   "cell_type": "code",
   "execution_count": null,
   "id": "e19b0180",
   "metadata": {},
   "outputs": [],
   "source": [
    "env.close()"
   ]
  },
  {
   "cell_type": "markdown",
   "id": "e59f2662",
   "metadata": {},
   "source": [
    "2. Preprocess Environment"
   ]
  },
  {
   "cell_type": "code",
   "execution_count": null,
   "id": "82c5751d",
   "metadata": {},
   "outputs": [],
   "source": [
    "#import frame stacker wrapper\n",
    "from gym.wrappers import GrayScaleObservation\n",
    "\n",
    "\n",
    "#import Vectorization Wrappers\n",
    "from stable_baselines3.common.vec_env import VecFrameStack, DummyVecEnv\n",
    "\n",
    "# import plot\n",
    "from matplotlib import pyplot as plt"
   ]
  },
  {
   "cell_type": "code",
   "execution_count": null,
   "id": "205bc816",
   "metadata": {},
   "outputs": [],
   "source": [
    "# create base environment\n",
    "env=gym_super_mario_bros.make('SuperMarioBros-v0',apply_api_compatibility=True)\n",
    "\n",
    "#1. simplify controls via joypadspace wrapper\n",
    "env=JoypadSpace(env,SIMPLE_MOVEMENT)\n",
    "JoypadSpace.reset = lambda self, **kwargs: self.env.reset(**kwargs)\n",
    "\n",
    "#2. grayscale image frame via grayscale wrapper\n",
    "env=GrayScaleObservation(env,keep_dim=True)\n",
    "\n",
    "#3. Wrap inside dummy environment, so the data can be processed in a stablebaselines 3 env\n",
    "env=DummyVecEnv([lambda: env])\n",
    "\n",
    "#4. Wrap inside framestacker\n",
    "env=VecFrameStack(env,4,channels_order='last')"
   ]
  },
  {
   "cell_type": "code",
   "execution_count": null,
   "id": "3b9b69af",
   "metadata": {
    "scrolled": false
   },
   "outputs": [],
   "source": [
    "state=env.reset()"
   ]
  },
  {
   "cell_type": "code",
   "execution_count": null,
   "id": "def367ad",
   "metadata": {},
   "outputs": [],
   "source": [
    "state.shape"
   ]
  },
  {
   "cell_type": "code",
   "execution_count": null,
   "id": "452fca6f",
   "metadata": {},
   "outputs": [],
   "source": [
    "# run at least 4 times\n",
    "state,reward,done,info=env.step([env.action_space.sample()])"
   ]
  },
  {
   "cell_type": "code",
   "execution_count": null,
   "id": "716a4843",
   "metadata": {
    "scrolled": true
   },
   "outputs": [],
   "source": [
    "plt.imshow(state[0])"
   ]
  },
  {
   "cell_type": "code",
   "execution_count": null,
   "id": "75e8b6c2",
   "metadata": {},
   "outputs": [],
   "source": [
    "plt.figure(figsize=(10,8))\n",
    "for idx in range(state.shape[3]):\n",
    "    plt.subplot(1,4,idx+1)\n",
    "    plt.imshow(state[0][:,:,idx])\n",
    "plt.show()"
   ]
  },
  {
   "cell_type": "code",
   "execution_count": null,
   "id": "413dc783",
   "metadata": {},
   "outputs": [],
   "source": [
    "env.close()    "
   ]
  },
  {
   "cell_type": "markdown",
   "id": "dacd3859",
   "metadata": {},
   "source": [
    "3.Train the RL model"
   ]
  },
  {
   "cell_type": "code",
   "execution_count": null,
   "id": "f608421f",
   "metadata": {},
   "outputs": [],
   "source": [
    "#import os for file path management\n",
    "import os\n",
    "#import PPO for algos\n",
    "from stable_baselines3 import PPO\n",
    "import torch\n",
    "torch.cuda.empty_cache()\n",
    "\n",
    "#import Base callback for saving models\n",
    "from stable_baselines3.common.callbacks import BaseCallback"
   ]
  },
  {
   "cell_type": "code",
   "execution_count": null,
   "id": "a4badd51",
   "metadata": {},
   "outputs": [],
   "source": [
    "class TrainAndLoggingCallback(BaseCallback):\n",
    "\n",
    "    def __init__(self, check_freq, save_path, verbose=1):\n",
    "        super(TrainAndLoggingCallback, self).__init__(verbose)\n",
    "        self.check_freq = check_freq\n",
    "        self.save_path = save_path\n",
    "\n",
    "    def _init_callback(self):\n",
    "        if self.save_path is not None:\n",
    "            os.makedirs(self.save_path, exist_ok=True)\n",
    "\n",
    "    def _on_step(self):\n",
    "        if self.n_calls % self.check_freq == 0:\n",
    "            model_path = os.path.join(self.save_path, 'best_model_{}'.format(self.n_calls))\n",
    "            self.model.save(model_path)\n",
    "\n",
    "        return True"
   ]
  },
  {
   "cell_type": "code",
   "execution_count": null,
   "id": "57e5643f",
   "metadata": {},
   "outputs": [],
   "source": [
    "# pretty self explanatory from the name\n",
    "CHECKPOINT_DIR = './train/'\n",
    "LOG_DIR = './logs/'"
   ]
  },
  {
   "cell_type": "code",
   "execution_count": null,
   "id": "64c0dc1c",
   "metadata": {},
   "outputs": [],
   "source": [
    "#setup model callback\n",
    "callback=TrainAndLoggingCallback(check_freq=1000000,save_path=CHECKPOINT_DIR)"
   ]
  },
  {
   "cell_type": "code",
   "execution_count": null,
   "id": "ae051ff5",
   "metadata": {},
   "outputs": [],
   "source": [
    "# This is the AI model being built\n",
    "model = PPO('CnnPolicy', env, verbose=1, tensorboard_log=LOG_DIR, learning_rate=0.000001, \n",
    "            n_steps=256) "
   ]
  },
  {
   "cell_type": "code",
   "execution_count": null,
   "id": "a5d3683a",
   "metadata": {
    "scrolled": false
   },
   "outputs": [],
   "source": [
    "# Train the AI model, this is where the AI model starts to learn\n",
    "model.learn(total_timesteps=250000, callback=callback)"
   ]
  },
  {
   "cell_type": "code",
   "execution_count": null,
   "id": "4dd26ab0",
   "metadata": {},
   "outputs": [],
   "source": []
  }
 ],
 "metadata": {
  "kernelspec": {
   "display_name": "Python 3 (ipykernel)",
   "language": "python",
   "name": "python3"
  },
  "language_info": {
   "codemirror_mode": {
    "name": "ipython",
    "version": 3
   },
   "file_extension": ".py",
   "mimetype": "text/x-python",
   "name": "python",
   "nbconvert_exporter": "python",
   "pygments_lexer": "ipython3",
   "version": "3.10.9"
  }
 },
 "nbformat": 4,
 "nbformat_minor": 5
}
